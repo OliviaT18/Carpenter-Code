{
 "cells": [
  {
   "cell_type": "markdown",
   "metadata": {},
   "source": [
    "# Carpenter Code  - Solid Methane Defect Recombination"
   ]
  },
  {
   "cell_type": "code",
   "execution_count": 14,
   "metadata": {},
   "outputs": [],
   "source": [
    "import matplotlib.pyplot as plt\n",
    "import numpy as np\n",
    "Kb = 1.38064852e-23"
   ]
  },
  {
   "cell_type": "markdown",
   "metadata": {},
   "source": [
    "### Defect 1 "
   ]
  },
  {
   "cell_type": "code",
   "execution_count": 15,
   "metadata": {},
   "outputs": [],
   "source": [
    "start_number_1 = 6.0e-2\n",
    "production_rate_1 = 0\n",
    "heat_released_per_recomb_1 = 218e3\n",
    "Ea_1 = 15.0e-22\n",
    "recomb_at_infinite_temp_1 = 380000/3600\n",
    "\n",
    "activation_temp_1 = Ea_1/Kb\n",
    "\n",
    "N_1 = []\n",
    "N_squared_1 = []\n",
    "K_1 = []\n",
    "N_1.append(start_number_1)\n",
    "N_squared_1.append(N_1[0]**2)\n",
    "K_1.append(0)\n",
    "R_1 = production_rate_1\n",
    "\n",
    "epsilon_1 = heat_released_per_recomb_1\n",
    "\n",
    "DeltaE_1 = Ea_1\n",
    "K_0_1 = recomb_at_infinite_temp_1\n",
    "Q = []\n",
    "Q.append(0)"
   ]
  },
  {
   "cell_type": "markdown",
   "metadata": {},
   "source": [
    "### Defect 2"
   ]
  },
  {
   "cell_type": "code",
   "execution_count": 16,
   "metadata": {},
   "outputs": [],
   "source": [
    "start_number_2 = 1.4e-1\n",
    "production_rate_2 = 0\n",
    "heat_released_per_recomb_2 = 310e3\n",
    "Ea_2 = 32.5000000e-22\n",
    "recomb_at_infinite_temp_2 = 25000.0/3600\n",
    "\n",
    "activation_temp_2 = Ea_2/Kb\n",
    "\n",
    "N_2 = []\n",
    "N_squared_2 = []\n",
    "K_2 = []\n",
    "N_2.append(start_number_2)\n",
    "N_squared_2.append(N_2[0]**2)\n",
    "K_2.append(0)\n",
    "R_2 = production_rate_2\n",
    "\n",
    "epsilon_2 = heat_released_per_recomb_2\n",
    "\n",
    "DeltaE_2 = Ea_2\n",
    "K_0_2 = recomb_at_infinite_temp_2\n"
   ]
  },
  {
   "cell_type": "markdown",
   "metadata": {},
   "source": [
    "### Setup"
   ]
  },
  {
   "cell_type": "code",
   "execution_count": 17,
   "metadata": {},
   "outputs": [],
   "source": [
    "system_start_temp = 10\n",
    "mass = 15.0\n",
    "specific_heat = 1\n",
    "heat_transfer_aoverl = 1.0\n",
    "external_heating_power = 0\n",
    "coolant_temp = 9\n",
    "\n",
    "methane_vol = []\n",
    "methane_vol.append(20e-2*20e-2*5e-2)\n",
    "\n",
    "T = []\n",
    "time = []\n",
    "deltaT = []\n",
    "test_var = []\n",
    "test_var.append(0)\n",
    "\n",
    "N_total = []\n",
    "N_total = N_1 + N_2\n",
    "\n",
    "T.append(system_start_temp)\n",
    "time.append(0)\n",
    "\n",
    "MCdT = 0\n",
    "\n",
    "M = mass\n",
    "C = specific_heat\n",
    "P = external_heating_power\n",
    "aoverl = heat_transfer_aoverl\n",
    "Tcool = coolant_temp\n"
   ]
  },
  {
   "cell_type": "markdown",
   "metadata": {},
   "source": [
    "### Reading in the files"
   ]
  },
  {
   "cell_type": "code",
   "execution_count": 18,
   "metadata": {},
   "outputs": [],
   "source": [
    "#Methane heat capacity \n",
    "Cx = np.genfromtxt('Methane_Heat_Cap.dat', delimiter = '\\t', skip_header = 1, usecols =(0))\n",
    "Cy = np.genfromtxt('Methane_Heat_Cap.dat', delimiter = '\\t', skip_header = 1, usecols =(1))\n",
    "\n",
    "#Methane thermal conductivity \n",
    "Hx = np.genfromtxt('Methane_thermal_cond.dat', delimiter = '\\t', skip_header = 1, usecols =(0))\n",
    "Hy = np.genfromtxt('Methane_thermal_cond.dat', delimiter = '\\t', skip_header = 1, usecols =(1))\n",
    "\n",
    "#Methane volume expansion (not actually sure if i need this but ill delete it later if not) \n",
    "therm_ex_x = np.genfromtxt('Volume_expansion_CH4.dat', delimiter = '\\t', skip_header = 1, usecols =(0))\n",
    "therm_ex_y = np.genfromtxt('Volume_expansion_CH4.dat', delimiter = '\\t', skip_header = 1, usecols =(1))\n",
    "\n",
    "#Carpenter data \n",
    "carpenter_x = np.genfromtxt('Carpenter_Nature_2.dat', delimiter = '\\t', usecols =(0))\n",
    "carpenter_y = np.genfromtxt('Carpenter_Nature_2.dat', delimiter = '\\t', usecols =(1))\n",
    "\n",
    "#TS2 data\n",
    "TS2_x = np.genfromtxt('TS2_Data.dat', delimiter = '\\t', usecols =(0))\n",
    "TS2_y = np.genfromtxt('TS2_Data.dat', delimiter = '\\t', usecols =(1))\n",
    "\n",
    "#Heater file data \n",
    "heater_x = np.genfromtxt('Heater_file_1.dat', delimiter = '\\t', skip_header = 2, usecols =(0))\n",
    "heater_y = np.genfromtxt('Heater_file_1.dat', delimiter = '\\t', skip_header = 2, usecols =(1))\n"
   ]
  },
  {
   "cell_type": "markdown",
   "metadata": {},
   "source": [
    "### Setting up integral"
   ]
  },
  {
   "cell_type": "markdown",
   "metadata": {},
   "source": [
    "#### For one defect"
   ]
  },
  {
   "cell_type": "code",
   "execution_count": 19,
   "metadata": {},
   "outputs": [],
   "source": [
    "i = 0\n",
    "t_step = 0.1\n",
    "\n",
    "C_interp = np.interp([T[0]], Cx, Cy)\n",
    "H_interp = np.interp([T[0]], Hx, Hy)\n",
    "\n",
    "K_1x = K_0_1 * np.exp(-DeltaE_1/(Kb*T[0]))\n",
    "K_1.append(K_1x)\n",
    "K_2x = K_0_2 * np.exp(-DeltaE_2/(Kb*T[0]))\n",
    "K_2.append(K_2x)\n"
   ]
  },
  {
   "cell_type": "code",
   "execution_count": 20,
   "metadata": {},
   "outputs": [
    {
     "data": {
      "image/png": "[encoded data removed]",
      "text/plain": [
       "<Figure size 432x288 with 1 Axes>"
      ]
     },
     "metadata": {
      "needs_background": "light"
     },
     "output_type": "display_data"
    }
   ],
   "source": [
    "while i < 6200:\n",
    "    t = time[i] + t_step\n",
    "    time.append(t)\n",
    "    \n",
    "    C_interp = np.interp([T[i]], Cx, Cy)           \n",
    "    H_interp = np.interp([T[i]], Hx, Hy)           \n",
    "    \n",
    "    P = 0.2\n",
    "    \n",
    "    N_1a = R_1*t_step - K_1[i]*t_step*N_1[i]**2 + N_1[i]\n",
    "    N_1.append(N_1a)\n",
    "    \n",
    "    Temp = (1/(M*C_interp) * (P*t_step + (epsilon_1*K_1[i]*t_step*N_1a**2) - aoverl*H_interp*t_step*(T[i]-Tcool)) ) + T[i]\n",
    "    T.append(Temp)\n",
    "    \n",
    "    Qa = (epsilon_1*K_1[i]*t_step*N_1a**2)/t_step\n",
    "    Q.append(Qa)\n",
    "\n",
    "    K_1a = K_0_1 * np.exp(-DeltaE_1/(Kb*Temp))\n",
    "    K_1.append(K_1a)\n",
    "    \n",
    "    i = i + 1\n",
    "\n",
    "plt.plot (T, Q)\n",
    "plt.xlabel('Temperature/K')\n",
    "plt.ylabel('dQ/dt')\n",
    "plt.title('One Defect')\n",
    "plt.show\n",
    "\n",
    "N_1.clear()\n",
    "T.clear()\n",
    "Q.clear()\n",
    "K_1.clear()"
   ]
  },
  {
   "cell_type": "markdown",
   "metadata": {},
   "source": [
    "#### For both defects"
   ]
  },
  {
   "cell_type": "code",
   "execution_count": 21,
   "metadata": {},
   "outputs": [],
   "source": [
    "i = 0\n",
    "t_step = 0.1\n",
    "T.append(system_start_temp)\n",
    "time.append(0)\n",
    "Q.append(0)\n",
    "N_1.append(start_number_1)\n",
    "K_1.append(0)"
   ]
  },
  {
   "cell_type": "code",
   "execution_count": 22,
   "metadata": {
    "scrolled": true
   },
   "outputs": [
    {
     "data": {
      "text/plain": [
       "<function matplotlib.pyplot.show(*args, **kw)>"
      ]
     },
     "execution_count": 22,
     "metadata": {},
     "output_type": "execute_result"
    },
    {
     "data": {
      "image/png": "[encoded data removed]",
      "text/plain": [
       "<Figure size 432x288 with 1 Axes>"
      ]
     },
     "metadata": {
      "needs_background": "light"
     },
     "output_type": "display_data"
    }
   ],
   "source": [
    "\n",
    "while i < 9000:\n",
    "    t = time[i] + t_step\n",
    "    time.append(t)\n",
    "    \n",
    "    C_interp = np.interp([T[i]], Cx, Cy)           \n",
    "    H_interp = np.interp([T[i]], Hx, Hy)          \n",
    "    \n",
    "    P = 0.2\n",
    "    \n",
    "    N_1a = R_1*t_step - K_1[i]*t_step*N_1[i]**2 + N_1[i]\n",
    "    N_1.append(N_1a)\n",
    "    N_2a = R_2*t_step - K_2[i]*t_step*N_2[i]**2 + N_2[i]\n",
    "    N_2.append(N_2a)\n",
    "    \n",
    "    Temp = (1/(M*C_interp) * (P*t_step + (epsilon_1*K_1[i]*t_step*N_1a**2) + (epsilon_2*K_2[i]*t_step*N_2a**2) - aoverl*H_interp*t_step*(T[i]-Tcool)) ) + T[i]\n",
    "    T.append(Temp)\n",
    "    \n",
    "    Qa = ((epsilon_1*K_1[i]*t_step*N_1a**2) + (epsilon_2*K_2[i]*t_step*N_2a**2)) /t_step\n",
    "    Q.append(Qa)\n",
    "\n",
    "    K_1a = K_0_1 * np.exp(-DeltaE_1/(Kb*Temp))\n",
    "    K_1.append(K_1a)\n",
    "    K_2a = K_0_2 * np.exp(-DeltaE_2/(Kb*Temp))\n",
    "    K_2.append(K_2a)\n",
    "    \n",
    "    i = i + 1\n",
    "\n",
    "plt.plot (T, Q)\n",
    "plt.xlabel('Temperature/K')\n",
    "plt.ylabel('dQ/dt')\n",
    "plt.title('Both Defects')\n",
    "plt.show"
   ]
  }
 ],
 "metadata": {
  "kernelspec": {
   "display_name": "Python 3",
   "language": "python",
   "name": "python3"
  },
  "language_info": {
   "codemirror_mode": {
    "name": "ipython",
    "version": 3
   },
   "file_extension": ".py",
   "mimetype": "text/x-python",
   "name": "python",
   "nbconvert_exporter": "python",
   "pygments_lexer": "ipython3",
   "version": "3.8.3"
  }
 },
 "nbformat": 4,
 "nbformat_minor": 4
}
